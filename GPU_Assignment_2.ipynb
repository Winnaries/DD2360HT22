{
  "nbformat": 4,
  "nbformat_minor": 0,
  "metadata": {
    "colab": {
      "provenance": []
    },
    "kernelspec": {
      "name": "python3",
      "display_name": "Python 3"
    },
    "language_info": {
      "name": "python"
    },
    "accelerator": "GPU",
    "gpuClass": "standard"
  },
  "cells": [
    {
      "cell_type": "code",
      "execution_count": null,
      "metadata": {
        "colab": {
          "base_uri": "https://localhost:8080/"
        },
        "id": "JRiXO1GGiziC",
        "outputId": "5d3a941d-58b3-496e-e74d-dddc916018d8"
      },
      "outputs": [
        {
          "output_type": "stream",
          "name": "stdout",
          "text": [
            "nvcc: NVIDIA (R) Cuda compiler driver\n",
            "Copyright (c) 2005-2021 NVIDIA Corporation\n",
            "Built on Sun_Feb_14_21:12:58_PST_2021\n",
            "Cuda compilation tools, release 11.2, V11.2.152\n",
            "Build cuda_11.2.r11.2/compiler.29618528_0\n",
            "Wed Nov 30 12:44:47 2022       \n",
            "+-----------------------------------------------------------------------------+\n",
            "| NVIDIA-SMI 460.32.03    Driver Version: 460.32.03    CUDA Version: 11.2     |\n",
            "|-------------------------------+----------------------+----------------------+\n",
            "| GPU  Name        Persistence-M| Bus-Id        Disp.A | Volatile Uncorr. ECC |\n",
            "| Fan  Temp  Perf  Pwr:Usage/Cap|         Memory-Usage | GPU-Util  Compute M. |\n",
            "|                               |                      |               MIG M. |\n",
            "|===============================+======================+======================|\n",
            "|   0  Tesla T4            Off  | 00000000:00:04.0 Off |                    0 |\n",
            "| N/A   70C    P8    12W /  70W |      0MiB / 15109MiB |      0%      Default |\n",
            "|                               |                      |                  N/A |\n",
            "+-------------------------------+----------------------+----------------------+\n",
            "                                                                               \n",
            "+-----------------------------------------------------------------------------+\n",
            "| Processes:                                                                  |\n",
            "|  GPU   GI   CI        PID   Type   Process name                  GPU Memory |\n",
            "|        ID   ID                                                   Usage      |\n",
            "|=============================================================================|\n",
            "|  No running processes found                                                 |\n",
            "+-----------------------------------------------------------------------------+\n"
          ]
        }
      ],
      "source": [
        "!nvcc --version\n",
        "!nvidia-smi"
      ]
    },
    {
      "cell_type": "code",
      "source": [
        "%%writefile vectorAdd.cu\n",
        "#include <stdio.h>\n",
        "#include <stdlib.h>\n",
        "\n",
        "__global__ void add(int *a, int *b, int *c) {\n",
        "  *c = *a + *b;\n",
        "}\n",
        "\n",
        "int main() {\n",
        "  int a, b, c;\n",
        "\n",
        "  // host copies of variables a, b & c\n",
        "  int *d_a, *d_b, *d_c;\n",
        "\n",
        "  // device copies of variables a, b & c\n",
        "  int size = sizeof(int);\n",
        "\n",
        "  // Allocate space for device copies of a, b, c\n",
        "  cudaMalloc((void **)&d_a, size);\n",
        "  cudaMalloc((void **)&d_b, size);\n",
        "  cudaMalloc((void **)&d_c, size);\n",
        "\n",
        "  // Setup input values  \n",
        "  c = 0;\n",
        "  a = 3;\n",
        "  b = 5;\n",
        "\n",
        "  // Copy inputs to device\n",
        "  cudaMemcpy(d_a, &a, size, cudaMemcpyHostToDevice);\n",
        "  cudaMemcpy(d_b, &b, size, cudaMemcpyHostToDevice);\n",
        "\n",
        "  // Launch add() kernel on GPU\n",
        "  add<<<1,1>>>(d_a, d_b, d_c);\n",
        "\n",
        "  // Copy result back to host\n",
        "  cudaError err = cudaMemcpy(&c, d_c, size, cudaMemcpyDeviceToHost);\n",
        "  if(err!=cudaSuccess) {\n",
        "      printf(\"CUDA error copying to Host: %s\\n\", cudaGetErrorString(err));\n",
        "  }\n",
        "\n",
        "  printf(\"result is %d\\n\",c);\n",
        "\n",
        "  // Cleanup\n",
        "  cudaFree(d_a);\n",
        "  cudaFree(d_b);\n",
        "  cudaFree(d_c);\n",
        "  return 0;\n",
        "}"
      ],
      "metadata": {
        "colab": {
          "base_uri": "https://localhost:8080/"
        },
        "id": "lPwnZrcJi9hq",
        "outputId": "4f751b3b-b986-4291-e5ba-8dcbf0d00ba2"
      },
      "execution_count": null,
      "outputs": [
        {
          "output_type": "stream",
          "name": "stdout",
          "text": [
            "Writing vectorAdd.cu\n"
          ]
        }
      ]
    },
    {
      "cell_type": "code",
      "source": [
        "!nvcc vectorAdd.cu\n",
        "!ls\n",
        "!./a.out"
      ],
      "metadata": {
        "colab": {
          "base_uri": "https://localhost:8080/"
        },
        "id": "aiyV-jyijpKM",
        "outputId": "1c9f406f-b40a-4c58-e0df-c1fe0ed364dc"
      },
      "execution_count": null,
      "outputs": [
        {
          "output_type": "stream",
          "name": "stdout",
          "text": [
            "a.out  sample_data  vectorAdd.cu\n",
            "result is 8\n"
          ]
        }
      ]
    },
    {
      "cell_type": "code",
      "source": [
        "!ls /usr/local/cuda*"
      ],
      "metadata": {
        "colab": {
          "base_uri": "https://localhost:8080/"
        },
        "id": "_O5FtyfkjtAq",
        "outputId": "91e956b9-293c-4266-fad8-3e3e655cbfdf"
      },
      "execution_count": null,
      "outputs": [
        {
          "output_type": "stream",
          "name": "stdout",
          "text": [
            "/usr/local/cuda:\n",
            "bin\t\t   EULA.txt  libnvvp\t       nvvm-prev  src\n",
            "compat\t\t   extras    nsightee_plugins  README\t  targets\n",
            "compute-sanitizer  include   nvml\t       samples\t  tools\n",
            "DOCS\t\t   lib64     nvvm\t       share\t  version.json\n",
            "\n",
            "/usr/local/cuda-11:\n",
            "bin\t\t   EULA.txt  libnvvp\t       nvvm-prev  src\n",
            "compat\t\t   extras    nsightee_plugins  README\t  targets\n",
            "compute-sanitizer  include   nvml\t       samples\t  tools\n",
            "DOCS\t\t   lib64     nvvm\t       share\t  version.json\n",
            "\n",
            "/usr/local/cuda-11.2:\n",
            "bin\t\t   EULA.txt  libnvvp\t       nvvm-prev  src\n",
            "compat\t\t   extras    nsightee_plugins  README\t  targets\n",
            "compute-sanitizer  include   nvml\t       samples\t  tools\n",
            "DOCS\t\t   lib64     nvvm\t       share\t  version.json\n"
          ]
        }
      ]
    },
    {
      "cell_type": "code",
      "source": [
        "!cp -rf /usr/local/cuda-11/samples/1_Utilities/deviceQuery ./deviceQuery"
      ],
      "metadata": {
        "id": "wyipx5zGj2TI"
      },
      "execution_count": null,
      "outputs": []
    },
    {
      "cell_type": "code",
      "source": [
        "!ls ./deviceQuery"
      ],
      "metadata": {
        "colab": {
          "base_uri": "https://localhost:8080/"
        },
        "id": "96QmlRhwkAWC",
        "outputId": "a45fbfe4-6398-46f8-c6c9-ba1a69b66d7e"
      },
      "execution_count": null,
      "outputs": [
        {
          "output_type": "stream",
          "name": "stdout",
          "text": [
            "deviceQuery.cpp  Makefile  NsightEclipse.xml  readme.txt\n"
          ]
        }
      ]
    },
    {
      "cell_type": "code",
      "source": [
        "!nvcc -I/usr/local/cuda-11/samples/common/inc deviceQuery/deviceQuery.cpp -o a.out"
      ],
      "metadata": {
        "id": "bzVfoNX7sx8X"
      },
      "execution_count": null,
      "outputs": []
    },
    {
      "cell_type": "code",
      "source": [
        "!./a.out"
      ],
      "metadata": {
        "id": "ORXOeM4BhMAI",
        "outputId": "ce06f2bd-a8b2-4c6c-f8c5-8c919c47843e",
        "colab": {
          "base_uri": "https://localhost:8080/"
        }
      },
      "execution_count": null,
      "outputs": [
        {
          "output_type": "stream",
          "name": "stdout",
          "text": [
            "./a.out Starting...\n",
            "\n",
            " CUDA Device Query (Runtime API) version (CUDART static linking)\n",
            "\n",
            "Detected 1 CUDA Capable device(s)\n",
            "\n",
            "Device 0: \"Tesla T4\"\n",
            "  CUDA Driver Version / Runtime Version          11.2 / 11.2\n",
            "  CUDA Capability Major/Minor version number:    7.5\n",
            "  Total amount of global memory:                 15110 MBytes (15843721216 bytes)\n",
            "  (40) Multiprocessors, ( 64) CUDA Cores/MP:     2560 CUDA Cores\n",
            "  GPU Max Clock rate:                            1590 MHz (1.59 GHz)\n",
            "  Memory Clock rate:                             5001 Mhz\n",
            "  Memory Bus Width:                              256-bit\n",
            "  L2 Cache Size:                                 4194304 bytes\n",
            "  Maximum Texture Dimension Size (x,y,z)         1D=(131072), 2D=(131072, 65536), 3D=(16384, 16384, 16384)\n",
            "  Maximum Layered 1D Texture Size, (num) layers  1D=(32768), 2048 layers\n",
            "  Maximum Layered 2D Texture Size, (num) layers  2D=(32768, 32768), 2048 layers\n",
            "  Total amount of constant memory:               65536 bytes\n",
            "  Total amount of shared memory per block:       49152 bytes\n",
            "  Total shared memory per multiprocessor:        65536 bytes\n",
            "  Total number of registers available per block: 65536\n",
            "  Warp size:                                     32\n",
            "  Maximum number of threads per multiprocessor:  1024\n",
            "  Maximum number of threads per block:           1024\n",
            "  Max dimension size of a thread block (x,y,z): (1024, 1024, 64)\n",
            "  Max dimension size of a grid size    (x,y,z): (2147483647, 65535, 65535)\n",
            "  Maximum memory pitch:                          2147483647 bytes\n",
            "  Texture alignment:                             512 bytes\n",
            "  Concurrent copy and kernel execution:          Yes with 3 copy engine(s)\n",
            "  Run time limit on kernels:                     No\n",
            "  Integrated GPU sharing Host Memory:            No\n",
            "  Support host page-locked memory mapping:       Yes\n",
            "  Alignment requirement for Surfaces:            Yes\n",
            "  Device has ECC support:                        Enabled\n",
            "  Device supports Unified Addressing (UVA):      Yes\n",
            "  Device supports Managed Memory:                Yes\n",
            "  Device supports Compute Preemption:            Yes\n",
            "  Supports Cooperative Kernel Launch:            Yes\n",
            "  Supports MultiDevice Co-op Kernel Launch:      Yes\n",
            "  Device PCI Domain ID / Bus ID / location ID:   0 / 0 / 4\n",
            "  Compute Mode:\n",
            "     < Default (multiple host threads can use ::cudaSetDevice() with device simultaneously) >\n",
            "\n",
            "deviceQuery, CUDA Driver = CUDART, CUDA Driver Version = 11.2, CUDA Runtime Version = 11.2, NumDevs = 1\n",
            "Result = PASS\n"
          ]
        }
      ]
    },
    {
      "cell_type": "code",
      "source": [
        "!wget http://www.cs.virginia.edu/~skadron/lava/Rodinia/Packages/rodinia_3.1.tar.bz2"
      ],
      "metadata": {
        "id": "gm_-UhBGhNp7",
        "colab": {
          "base_uri": "https://localhost:8080/"
        },
        "outputId": "fa5e1e56-ed41-406e-f7d7-429186ddf008"
      },
      "execution_count": null,
      "outputs": [
        {
          "output_type": "stream",
          "name": "stdout",
          "text": [
            "--2022-11-30 12:45:31--  http://www.cs.virginia.edu/~skadron/lava/Rodinia/Packages/rodinia_3.1.tar.bz2\n",
            "Resolving www.cs.virginia.edu (www.cs.virginia.edu)... 128.143.67.11\n",
            "Connecting to www.cs.virginia.edu (www.cs.virginia.edu)|128.143.67.11|:80... connected.\n",
            "HTTP request sent, awaiting response... 301 Moved Permanently\n",
            "Location: https://www.cs.virginia.edu/~skadron/lava/Rodinia/Packages/rodinia_3.1.tar.bz2 [following]\n",
            "--2022-11-30 12:45:32--  https://www.cs.virginia.edu/~skadron/lava/Rodinia/Packages/rodinia_3.1.tar.bz2\n",
            "Connecting to www.cs.virginia.edu (www.cs.virginia.edu)|128.143.67.11|:443... connected.\n",
            "HTTP request sent, awaiting response... 200 OK\n",
            "Length: 360636246 (344M) [application/x-tar]\n",
            "Saving to: ‘rodinia_3.1.tar.bz2’\n",
            "\n",
            "rodinia_3.1.tar.bz2 100%[===================>] 343.93M  12.1MB/s    in 30s     \n",
            "\n",
            "2022-11-30 12:46:03 (11.3 MB/s) - ‘rodinia_3.1.tar.bz2’ saved [360636246/360636246]\n",
            "\n"
          ]
        }
      ]
    },
    {
      "cell_type": "code",
      "source": [
        "!tar -xf rodinia_3.1.tar.bz2"
      ],
      "metadata": {
        "id": "wUDmVpuNkiHP"
      },
      "execution_count": null,
      "outputs": []
    },
    {
      "cell_type": "code",
      "source": [
        "!gcc --version"
      ],
      "metadata": {
        "colab": {
          "base_uri": "https://localhost:8080/"
        },
        "id": "86Fg9xGBk3Tn",
        "outputId": "ea487689-9282-4cb9-d511-0edb1a246b84"
      },
      "execution_count": null,
      "outputs": [
        {
          "output_type": "stream",
          "name": "stdout",
          "text": [
            "gcc (Ubuntu 7.5.0-3ubuntu1~18.04) 7.5.0\n",
            "Copyright (C) 2017 Free Software Foundation, Inc.\n",
            "This is free software; see the source for copying conditions.  There is NO\n",
            "warranty; not even for MERCHANTABILITY or FITNESS FOR A PARTICULAR PURPOSE.\n",
            "\n"
          ]
        }
      ]
    },
    {
      "cell_type": "code",
      "source": [
        "!env"
      ],
      "metadata": {
        "colab": {
          "base_uri": "https://localhost:8080/"
        },
        "id": "qkApQEkvmBtX",
        "outputId": "f48070fb-e4a0-4c2e-c1b0-117433312a3e"
      },
      "execution_count": null,
      "outputs": [
        {
          "output_type": "stream",
          "name": "stdout",
          "text": [
            "NV_LIBCUBLAS_DEV_VERSION=11.4.1.1043-1\n",
            "NV_CUDA_COMPAT_PACKAGE=cuda-compat-11-2\n",
            "__EGL_VENDOR_LIBRARY_DIRS=/usr/lib64-nvidia:/usr/share/glvnd/egl_vendor.d/\n",
            "NV_CUDNN_PACKAGE_DEV=libcudnn8-dev=8.1.1.33-1+cuda11.2\n",
            "PYDEVD_USE_FRAME_EVAL=NO\n",
            "LD_LIBRARY_PATH=/usr/lib64-nvidia\n",
            "NV_LIBNCCL_DEV_PACKAGE=libnccl-dev=2.8.4-1+cuda11.2\n",
            "TCLLIBPATH=/usr/share/tcltk/tcllib1.19\n",
            "CLOUDSDK_PYTHON=python3\n",
            "LANG=en_US.UTF-8\n",
            "NV_LIBNPP_DEV_PACKAGE=libnpp-dev-11-2=11.3.2.152-1\n",
            "ENABLE_DIRECTORYPREFETCHER=1\n",
            "HOSTNAME=4bbb15ba839f\n",
            "OLDPWD=/\n",
            "CLOUDSDK_CONFIG=/content/.config\n",
            "USE_AUTH_EPHEM=1\n",
            "KMP_EXTRA_ARGS=--listen_host=172.28.0.2 --target_host=172.28.0.2 --tunnel_background_save_url=https://colab.research.google.com/tun/m/cc48301118ce562b961b3c22d803539adc1e0c19/gpu-t4-s-1jfirqarstn8z --tunnel_background_save_delay=10s --tunnel_periodic_background_save_frequency=30m0s --enable_output_coalescing=true --output_coalescing_required=true\n",
            "NV_LIBNPP_VERSION=11.3.2.152-1\n",
            "NV_NVPROF_DEV_PACKAGE=cuda-nvprof-11-2=11.2.152-1\n",
            "NVIDIA_VISIBLE_DEVICES=all\n",
            "NV_NVPROF_VERSION=11.2.152-1\n",
            "NV_LIBCUSPARSE_VERSION=11.4.1.1152-1\n",
            "DATALAB_SETTINGS_OVERRIDES={\"kernelManagerProxyPort\":6000,\"kernelManagerProxyHost\":\"172.28.0.2\",\"jupyterArgs\":[\"--ip=172.28.0.2\"],\"debugAdapterMultiplexerPath\":\"/usr/local/bin/dap_multiplexer\",\"enableLsp\":true}\n",
            "NV_LIBCUBLAS_DEV_PACKAGE=libcublas-dev-11-2=11.4.1.1043-1\n",
            "ENV=/root/.bashrc\n",
            "PAGER=cat\n",
            "NCCL_VERSION=2.8.4-1\n",
            "TF_FORCE_GPU_ALLOW_GROWTH=true\n",
            "JPY_PARENT_PID=61\n",
            "NO_GCE_CHECK=False\n",
            "PWD=/content\n",
            "NVARCH=x86_64\n",
            "NV_LIBCUSPARSE_DEV_VERSION=11.4.1.1152-1\n",
            "HOME=/root\n",
            "KMP_LISTEN_PORT=6000\n",
            "LAST_FORCED_REBUILD=20221107\n",
            "CLICOLOR=1\n",
            "S2N_ENABLE_CLIENT_MODE=1\n",
            "NV_LIBNCCL_PACKAGE_VERSION=2.8.4-1\n",
            "S2N_DONT_MLOCK=1\n",
            "NV_LIBNCCL_PACKAGE=libnccl2=2.8.4-1+cuda11.2\n",
            "DEBIAN_FRONTEND=noninteractive\n",
            "NV_LIBNCCL_DEV_PACKAGE_NAME=libnccl-dev\n",
            "NV_CUDA_LIB_VERSION=11.2.2-1\n",
            "NV_LIBNPP_PACKAGE=libnpp-11-2=11.3.2.152-1\n",
            "NV_LIBNCCL_PACKAGE_NAME=libnccl2\n",
            "LIBRARY_PATH=/usr/local/cuda/lib64/stubs\n",
            "NV_NVTX_VERSION=11.2.152-1\n",
            "NV_LIBCUBLAS_VERSION=11.4.1.1043-1\n",
            "NV_LIBCUBLAS_PACKAGE=libcublas-11-2=11.4.1.1043-1\n",
            "GCE_METADATA_TIMEOUT=3\n",
            "NV_CUDNN_VERSION=8.1.1.33\n",
            "VM_GCE_METADATA_HOST=169.254.169.253\n",
            "NV_CUDA_CUDART_DEV_VERSION=11.2.152-1\n",
            "KMP_TARGET_PORT=9000\n",
            "GLIBCPP_FORCE_NEW=1\n",
            "TBE_CREDS_ADDR=172.28.0.1:8008\n",
            "TERM=xterm-color\n",
            "SHELL=/bin/bash\n",
            "GCS_READ_CACHE_BLOCK_SIZE_MB=16\n",
            "NV_NVML_DEV_VERSION=11.2.152-1\n",
            "PYTHONWARNINGS=ignore:::pip._internal.cli.base_command\n",
            "MPLBACKEND=module://ipykernel.pylab.backend_inline\n",
            "CUDA_VERSION=11.2.2\n",
            "NV_LIBCUBLAS_PACKAGE_NAME=libcublas-11-2\n",
            "NVIDIA_DRIVER_CAPABILITIES=compute,utility\n",
            "TBE_RUNTIME_ADDR=172.28.0.1:8011\n",
            "SHLVL=1\n",
            "PYTHONPATH=/env/python\n",
            "NV_LIBCUBLAS_DEV_PACKAGE_NAME=libcublas-dev-11-2\n",
            "NVIDIA_REQUIRE_CUDA=cuda>=11.2 brand=tesla,driver>=418,driver<419 brand=tesla,driver>=450,driver<451\n",
            "NV_LIBNPP_DEV_VERSION=11.3.2.152-1\n",
            "TBE_EPHEM_CREDS_ADDR=172.28.0.1:8009\n",
            "NV_CUDA_CUDART_VERSION=11.2.152-1\n",
            "NV_CUDNN_PACKAGE_NAME=libcudnn8\n",
            "GLIBCXX_FORCE_NEW=1\n",
            "PATH=/opt/bin:/usr/local/nvidia/bin:/usr/local/cuda/bin:/usr/local/sbin:/usr/local/bin:/usr/sbin:/usr/bin:/sbin:/bin:/tools/node/bin:/tools/google-cloud-sdk/bin\n",
            "NV_LIBNCCL_DEV_PACKAGE_VERSION=2.8.4-1\n",
            "LD_PRELOAD=/usr/lib/x86_64-linux-gnu/libtcmalloc.so.4\n",
            "NV_CUDNN_PACKAGE=libcudnn8=8.1.1.33-1+cuda11.2\n",
            "GIT_PAGER=cat\n",
            "_=/usr/bin/env\n"
          ]
        }
      ]
    },
    {
      "cell_type": "markdown",
      "source": [
        "#### Particle Filter"
      ],
      "metadata": {
        "id": "xvSlbZ6mpI3b"
      }
    },
    {
      "cell_type": "markdown",
      "source": [
        "##### OpenMP"
      ],
      "metadata": {
        "id": "BijGQGckpMnV"
      }
    },
    {
      "cell_type": "code",
      "source": [
        "!cd rodinia_3.1/openmp/particlefilter && make openmp\n",
        "!ls rodinia_3.1/openmp/particlefilter "
      ],
      "metadata": {
        "id": "aIJw1lyzpdhY"
      },
      "execution_count": null,
      "outputs": []
    },
    {
      "cell_type": "code",
      "source": [
        "!./rodinia_3.1/openmp/particlefilter/particle_filter -x 1024 -y 1024 -z 10 -np 100000 | tail --lines=2"
      ],
      "metadata": {
        "colab": {
          "base_uri": "https://localhost:8080/"
        },
        "id": "gfKYhz8TzZ_-",
        "outputId": "42aa4611-c779-4422-d0dc-ecc80f39d224"
      },
      "execution_count": null,
      "outputs": [
        {
          "output_type": "stream",
          "name": "stdout",
          "text": [
            "PARTICLE FILTER TOOK 23.232613\n",
            "ENTIRE PROGRAM TOOK 24.234400\n"
          ]
        }
      ]
    },
    {
      "cell_type": "markdown",
      "source": [
        "##### CUDA"
      ],
      "metadata": {
        "id": "OoxNNRVDqYHM"
      }
    },
    {
      "cell_type": "code",
      "source": [
        "!cd rodinia_3.1/cuda/particlefilter && make all\n",
        "!ls rodinia_3.1/cuda/particlefilter "
      ],
      "metadata": {
        "id": "zByGfkjNpwn9"
      },
      "execution_count": null,
      "outputs": []
    },
    {
      "cell_type": "code",
      "source": [
        "!./rodinia_3.1/cuda/particlefilter/particlefilter_naive -x 1024 -y 1024 -z 10 -np 100000 | tail --lines=2"
      ],
      "metadata": {
        "colab": {
          "base_uri": "https://localhost:8080/"
        },
        "id": "0gbmKTfwq4r4",
        "outputId": "1247d519-4f60-4c84-dd50-73862d6ec0f1"
      },
      "execution_count": null,
      "outputs": [
        {
          "output_type": "stream",
          "name": "stdout",
          "text": [
            "PARTICLE FILTER TOOK 1.325444\n",
            "ENTIRE PROGRAM TOOK 2.426719\n"
          ]
        }
      ]
    },
    {
      "cell_type": "code",
      "source": [
        "!./rodinia_3.1/cuda/particlefilter/particlefilter_float -x 1024 -y 1024 -z 10 -np 100000 | tail --lines=2"
      ],
      "metadata": {
        "colab": {
          "base_uri": "https://localhost:8080/"
        },
        "id": "yjZR5sNGrUGW",
        "outputId": "c011fcd9-9e27-420d-cfae-0a9f0ddd8a92"
      },
      "execution_count": null,
      "outputs": [
        {
          "output_type": "stream",
          "name": "stdout",
          "text": [
            "PARTICLE FILTER TOOK 1.145506\n",
            "ENTIRE PROGRAM TOOK 2.279990\n"
          ]
        }
      ]
    },
    {
      "cell_type": "markdown",
      "source": [
        "#### LU-Decomposition"
      ],
      "metadata": {
        "id": "s9gUGZ0_wfQM"
      }
    },
    {
      "cell_type": "markdown",
      "source": [
        "OpenMP"
      ],
      "metadata": {
        "id": "aEdx_DHTwl7s"
      }
    },
    {
      "cell_type": "code",
      "source": [
        "!cd rodinia_3.1/openmp/lud && make lud_omp\n",
        "!ls rodinia_3.1/openmp/lud "
      ],
      "metadata": {
        "colab": {
          "base_uri": "https://localhost:8080/"
        },
        "id": "DV7CI5ARrU_f",
        "outputId": "aac6f439-6305-4045-ec8a-74b60d3cd097"
      },
      "execution_count": null,
      "outputs": [
        {
          "output_type": "stream",
          "name": "stdout",
          "text": [
            "cd omp; make\n",
            "make[1]: Entering directory '/content/rodinia_3.1/openmp/lud/omp'\n",
            "make[1]: 'lud_omp' is up to date.\n",
            "make[1]: Leaving directory '/content/rodinia_3.1/openmp/lud/omp'\n",
            "ls: cannot access '2': No such file or directory\n",
            "4071235 -rwxr-xr-x 1 599459 21 44506945 Dec 11  2015 ./rodinia_3.1/data/lud/2048.dat\n",
            "\n",
            "rodinia_3.1/openmp/lud:\n",
            "total 32\n",
            "4070316 drwxr-xr-x 2 599459 21 4096 Dec 11  2015 base\n",
            "4070313 drwxr-xr-x 2 599459 21 4096 Nov 30 13:40 common\n",
            "4070320 -rwxr-xr-x 1 599459 21  166 Dec 11  2015 Makefile\n",
            "4070308 drwxr-xr-x 2 599459 21 4096 Nov 30 13:40 omp\n",
            "4070321 -rwxr-xr-x 1 599459 21  416 Dec 11  2015 README\n",
            "4070322 -rwxr-xr-x 1 599459 21   71 Nov 30 13:40 run\n",
            "4070307 -rw-r--r-- 1 599459 21   31 Dec 11  2015 run_offload\n",
            "4070303 drwxr-xr-x 2 599459 21 4096 Dec 11  2015 tools\n"
          ]
        }
      ]
    },
    {
      "cell_type": "code",
      "source": [
        "!./rodinia_3.1/openmp/lud/omp/lud_omp -n 2 -s 4096"
      ],
      "metadata": {
        "colab": {
          "base_uri": "https://localhost:8080/"
        },
        "id": "lDo0e9olweZo",
        "outputId": "42cd6957-206f-49dd-951c-6844eda18217"
      },
      "execution_count": null,
      "outputs": [
        {
          "output_type": "stream",
          "name": "stdout",
          "text": [
            "Generate input matrix internally, size =4096\n",
            "Creating matrix internally size=4096\n",
            "running OMP on host\n",
            "Time consumed(ms): 5103.015000\n"
          ]
        }
      ]
    },
    {
      "cell_type": "markdown",
      "source": [
        "##### CUDA"
      ],
      "metadata": {
        "id": "PymaIHIdxkrE"
      }
    },
    {
      "cell_type": "code",
      "source": [
        "!cd rodinia_3.1/cuda/lud && make lud_cuda\n",
        "!ls rodinia_3.1/cuda/lud "
      ],
      "metadata": {
        "colab": {
          "base_uri": "https://localhost:8080/"
        },
        "id": "Be0fyBgNxXVT",
        "outputId": "1b839da8-7083-42eb-df04-366f605f19d8"
      },
      "execution_count": null,
      "outputs": [
        {
          "output_type": "stream",
          "name": "stdout",
          "text": [
            "cd cuda; make\n",
            "make[1]: Entering directory '/content/rodinia_3.1/cuda/lud/cuda'\n",
            "make[1]: Nothing to be done for 'all'.\n",
            "make[1]: Leaving directory '/content/rodinia_3.1/cuda/lud/cuda'\n",
            "base  common  cuda  Makefile  README  run  tools\n"
          ]
        }
      ]
    },
    {
      "cell_type": "code",
      "source": [
        "!./rodinia_3.1/cuda/lud/cuda/lud_cuda -s 4096"
      ],
      "metadata": {
        "colab": {
          "base_uri": "https://localhost:8080/"
        },
        "id": "-Wnw2ujPxzMj",
        "outputId": "9ac7089b-dbfb-4dd4-822f-64a20fa16c8c"
      },
      "execution_count": null,
      "outputs": [
        {
          "output_type": "stream",
          "name": "stdout",
          "text": [
            "WG size of kernel = 32 X 32\n",
            "Generate input matrix internally, size =4096\n",
            "Creating matrix internally size=4096\n",
            "Time consumed(ms): 186.069000\n"
          ]
        }
      ]
    },
    {
      "cell_type": "markdown",
      "source": [
        "#### Needleman-Wunch"
      ],
      "metadata": {
        "id": "XkKoPZtc1rT1"
      }
    },
    {
      "cell_type": "markdown",
      "source": [
        "##### OpenMP"
      ],
      "metadata": {
        "id": "V0lgMQa71v-m"
      }
    },
    {
      "cell_type": "code",
      "source": [
        "!cd rodinia_3.1/openmp/nw && make needle\n",
        "!ls rodinia_3.1/openmp/nw "
      ],
      "metadata": {
        "colab": {
          "base_uri": "https://localhost:8080/"
        },
        "id": "bbK_c08E1uQb",
        "outputId": "021d7441-0806-4c41-ac2c-09681de84583"
      },
      "execution_count": null,
      "outputs": [
        {
          "output_type": "stream",
          "name": "stdout",
          "text": [
            "g++ -g -O3 -fopenmp needle.cpp -o needle \n",
            "Makefile  needle  needle.cpp  run  run_offload\n"
          ]
        }
      ]
    },
    {
      "cell_type": "code",
      "source": [
        "!./rodinia_3.1/openmp/nw/needle 30000 10 2"
      ],
      "metadata": {
        "colab": {
          "base_uri": "https://localhost:8080/"
        },
        "id": "Fzc5MNQmx7tl",
        "outputId": "d2964332-cfd2-48bb-9b17-f59b65f26ace"
      },
      "execution_count": null,
      "outputs": [
        {
          "output_type": "stream",
          "name": "stdout",
          "text": [
            "tcmalloc: large alloc 3600244736 bytes == 0x55f9c193e000 @  0x7fea8e3c51e7 0x55f9bf60181e 0x55f9bf600b09 0x7fea8dd93c87 0x55f9bf600b3a\n",
            "tcmalloc: large alloc 3600244736 bytes == 0x55fa982b4000 @  0x7fea8e3c51e7 0x55f9bf60182b 0x55f9bf600b09 0x7fea8dd93c87 0x55f9bf600b3a\n",
            "Start Needleman-Wunsch\n",
            "Num of threads: 2\n",
            "Processing top-left matrix\n",
            "Processing bottom-right matrix\n",
            "Total time: 4169.683 ms\n"
          ]
        }
      ]
    },
    {
      "cell_type": "markdown",
      "source": [
        "##### CUDA"
      ],
      "metadata": {
        "id": "5TFAtu2b2tE-"
      }
    },
    {
      "cell_type": "code",
      "source": [
        "!cd rodinia_3.1/cuda/nw && make debug\n",
        "!ls rodinia_3.1/cuda/nw "
      ],
      "metadata": {
        "colab": {
          "base_uri": "https://localhost:8080/"
        },
        "id": "-KcU2Jf20aNZ",
        "outputId": "831c04c6-9baa-41e5-f22a-0f192adf5d1b"
      },
      "execution_count": null,
      "outputs": [
        {
          "output_type": "stream",
          "name": "stdout",
          "text": [
            "/usr/local/cuda/bin/nvcc  -g needle.cu -o needle -I/usr/local/cuda/include -L/usr/local/cuda/lib64 \n",
            "Makefile\t needle     needle.h\t      README\n",
            "Makefile_nvidia  needle.cu  needle_kernel.cu  run\n"
          ]
        }
      ]
    },
    {
      "cell_type": "code",
      "source": [
        "!nvprof ./rodinia_3.1/cuda/nw/needle 30000 10 "
      ],
      "metadata": {
        "colab": {
          "base_uri": "https://localhost:8080/"
        },
        "id": "NQTzsgRl26MY",
        "outputId": "9f0e641b-2aed-4e60-d315-9fd3a12229af"
      },
      "execution_count": null,
      "outputs": [
        {
          "output_type": "stream",
          "name": "stdout",
          "text": [
            "WG size of kernel = 16 \n",
            "tcmalloc: large alloc 3600244736 bytes == 0x55e2956c6000 @  0x7f6dea0e31e7 0x55e293007930 0x55e2930077a1 0x7f6de9114c87 0x55e29300757a\n",
            "tcmalloc: large alloc 3600244736 bytes == 0x55e36c03c000 @  0x7f6dea0e31e7 0x55e29300794f 0x55e2930077a1 0x7f6de9114c87 0x55e29300757a\n",
            "tcmalloc: large alloc 3600244736 bytes == 0x55e4429b2000 @  0x7f6dea0e31e7 0x55e29300796e 0x55e2930077a1 0x7f6de9114c87 0x55e29300757a\n",
            "Start Needleman-Wunsch\n",
            "==1608== NVPROF is profiling process 1608, command: ./rodinia_3.1/cuda/nw/needle 30000 10\n",
            "Processing top-left matrix\n",
            "Processing bottom-right matrix\n",
            "Total time: 224.265 ms\n",
            "==1608== Profiling application: ./rodinia_3.1/cuda/nw/needle 30000 10\n",
            "==1608== Profiling result:\n",
            "            Type  Time(%)      Time     Calls       Avg       Min       Max  Name\n",
            " GPU activities:   56.03%  2.34024s         1  2.34024s  2.34024s  2.34024s  [CUDA memcpy DtoH]\n",
            "                   37.88%  1.58227s         2  791.14ms  776.22ms  806.05ms  [CUDA memcpy HtoD]\n",
            "                    3.42%  143.05ms      1875  76.295us  12.736us  136.51us  needle_cuda_shared_1(int*, int*, int, int, int, int)\n",
            "                    2.66%  111.29ms      1874  59.385us  7.8080us  115.49us  needle_cuda_shared_2(int*, int*, int, int, int, int)\n",
            "      API calls:   87.53%  3.95819s         3  1.31940s  776.48ms  2.37543s  cudaMemcpy\n",
            "                    7.35%  332.47ms         2  166.23ms  3.4190ms  329.05ms  cudaMalloc\n",
            "                    4.93%  222.90ms      3749  59.455us  3.2720us  682.48us  cudaLaunchKernel\n",
            "                    0.17%  7.8038ms         2  3.9019ms  2.9192ms  4.8845ms  cudaFree\n",
            "                    0.01%  371.02us         1  371.02us  371.02us  371.02us  cuDeviceTotalMem\n",
            "                    0.00%  178.58us       101  1.7680us     130ns  74.134us  cuDeviceGetAttribute\n",
            "                    0.00%  35.395us         1  35.395us  35.395us  35.395us  cuDeviceGetName\n",
            "                    0.00%  7.5140us         1  7.5140us  7.5140us  7.5140us  cuDeviceGetPCIBusId\n",
            "                    0.00%  2.3510us         3     783ns     210ns  1.7880us  cuDeviceGetCount\n",
            "                    0.00%  1.8110us         2     905ns     440ns  1.3710us  cuDeviceGet\n",
            "                    0.00%     269ns         1     269ns     269ns     269ns  cuDeviceGetUuid\n"
          ]
        }
      ]
    },
    {
      "cell_type": "code",
      "source": [],
      "metadata": {
        "id": "3TScR8Jg47hs"
      },
      "execution_count": null,
      "outputs": []
    }
  ]
}