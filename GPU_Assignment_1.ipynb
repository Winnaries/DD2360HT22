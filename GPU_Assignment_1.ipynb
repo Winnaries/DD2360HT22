{
  "nbformat": 4,
  "nbformat_minor": 0,
  "metadata": {
    "colab": {
      "provenance": []
    },
    "kernelspec": {
      "name": "python3",
      "display_name": "Python 3"
    },
    "language_info": {
      "name": "python"
    },
    "accelerator": "GPU",
    "gpuClass": "standard"
  },
  "cells": [
    {
      "cell_type": "code",
      "execution_count": null,
      "metadata": {
        "colab": {
          "base_uri": "https://localhost:8080/"
        },
        "id": "JRiXO1GGiziC",
        "outputId": "0ae78c60-173b-4681-a1c6-c0a34e8d0828"
      },
      "outputs": [
        {
          "output_type": "stream",
          "name": "stdout",
          "text": [
            "nvcc: NVIDIA (R) Cuda compiler driver\n",
            "Copyright (c) 2005-2021 NVIDIA Corporation\n",
            "Built on Sun_Feb_14_21:12:58_PST_2021\n",
            "Cuda compilation tools, release 11.2, V11.2.152\n",
            "Build cuda_11.2.r11.2/compiler.29618528_0\n",
            "Fri Nov 25 12:36:22 2022       \n",
            "+-----------------------------------------------------------------------------+\n",
            "| NVIDIA-SMI 460.32.03    Driver Version: 460.32.03    CUDA Version: 11.2     |\n",
            "|-------------------------------+----------------------+----------------------+\n",
            "| GPU  Name        Persistence-M| Bus-Id        Disp.A | Volatile Uncorr. ECC |\n",
            "| Fan  Temp  Perf  Pwr:Usage/Cap|         Memory-Usage | GPU-Util  Compute M. |\n",
            "|                               |                      |               MIG M. |\n",
            "|===============================+======================+======================|\n",
            "|   0  Tesla T4            Off  | 00000000:00:04.0 Off |                    0 |\n",
            "| N/A   71C    P8    10W /  70W |      0MiB / 15109MiB |      0%      Default |\n",
            "|                               |                      |                  N/A |\n",
            "+-------------------------------+----------------------+----------------------+\n",
            "                                                                               \n",
            "+-----------------------------------------------------------------------------+\n",
            "| Processes:                                                                  |\n",
            "|  GPU   GI   CI        PID   Type   Process name                  GPU Memory |\n",
            "|        ID   ID                                                   Usage      |\n",
            "|=============================================================================|\n",
            "|  No running processes found                                                 |\n",
            "+-----------------------------------------------------------------------------+\n"
          ]
        }
      ],
      "source": [
        "!nvcc --version\n",
        "!nvidia-smi"
      ]
    },
    {
      "cell_type": "code",
      "source": [
        "%%writefile vectorAdd.cu\n",
        "#include <stdio.h>\n",
        "#include <stdlib.h>\n",
        "\n",
        "__global__ void add(int *a, int *b, int *c) {\n",
        "  *c = *a + *b;\n",
        "}\n",
        "\n",
        "int main() {\n",
        "  int a, b, c;\n",
        "\n",
        "  // host copies of variables a, b & c\n",
        "  int *d_a, *d_b, *d_c;\n",
        "\n",
        "  // device copies of variables a, b & c\n",
        "  int size = sizeof(int);\n",
        "\n",
        "  // Allocate space for device copies of a, b, c\n",
        "  cudaMalloc((void **)&d_a, size);\n",
        "  cudaMalloc((void **)&d_b, size);\n",
        "  cudaMalloc((void **)&d_c, size);\n",
        "\n",
        "  // Setup input values  \n",
        "  c = 0;\n",
        "  a = 3;\n",
        "  b = 5;\n",
        "\n",
        "  // Copy inputs to device\n",
        "  cudaMemcpy(d_a, &a, size, cudaMemcpyHostToDevice);\n",
        "  cudaMemcpy(d_b, &b, size, cudaMemcpyHostToDevice);\n",
        "\n",
        "  // Launch add() kernel on GPU\n",
        "  add<<<1,1>>>(d_a, d_b, d_c);\n",
        "\n",
        "  // Copy result back to host\n",
        "  cudaError err = cudaMemcpy(&c, d_c, size, cudaMemcpyDeviceToHost);\n",
        "  if(err!=cudaSuccess) {\n",
        "      printf(\"CUDA error copying to Host: %s\\n\", cudaGetErrorString(err));\n",
        "  }\n",
        "\n",
        "  printf(\"result is %d\\n\",c);\n",
        "\n",
        "  // Cleanup\n",
        "  cudaFree(d_a);\n",
        "  cudaFree(d_b);\n",
        "  cudaFree(d_c);\n",
        "  return 0;\n",
        "}"
      ],
      "metadata": {
        "colab": {
          "base_uri": "https://localhost:8080/"
        },
        "id": "lPwnZrcJi9hq",
        "outputId": "57c8f1f1-33b9-44b2-efc2-b4c367d62a55"
      },
      "execution_count": null,
      "outputs": [
        {
          "output_type": "stream",
          "name": "stdout",
          "text": [
            "Writing vectorAdd.cu\n"
          ]
        }
      ]
    },
    {
      "cell_type": "code",
      "source": [
        "!nvcc vectorAdd.cu\n",
        "!ls\n",
        "!./a.out"
      ],
      "metadata": {
        "colab": {
          "base_uri": "https://localhost:8080/"
        },
        "id": "aiyV-jyijpKM",
        "outputId": "4f377862-2f3b-4980-ca4e-97b338203e87"
      },
      "execution_count": null,
      "outputs": [
        {
          "output_type": "stream",
          "name": "stdout",
          "text": [
            "a.out  sample_data  vectorAdd.cu\n",
            "result is 8\n"
          ]
        }
      ]
    },
    {
      "cell_type": "code",
      "source": [
        "!ls /usr/local/cuda*"
      ],
      "metadata": {
        "colab": {
          "base_uri": "https://localhost:8080/"
        },
        "id": "_O5FtyfkjtAq",
        "outputId": "c2c42091-4b5f-4fcd-cf33-a7c91d456707"
      },
      "execution_count": null,
      "outputs": [
        {
          "output_type": "stream",
          "name": "stdout",
          "text": [
            "/usr/local/cuda:\n",
            "bin\t\t   EULA.txt  libnvvp\t       nvvm-prev  src\n",
            "compat\t\t   extras    nsightee_plugins  README\t  targets\n",
            "compute-sanitizer  include   nvml\t       samples\t  tools\n",
            "DOCS\t\t   lib64     nvvm\t       share\t  version.json\n",
            "\n",
            "/usr/local/cuda-11:\n",
            "bin\t\t   EULA.txt  libnvvp\t       nvvm-prev  src\n",
            "compat\t\t   extras    nsightee_plugins  README\t  targets\n",
            "compute-sanitizer  include   nvml\t       samples\t  tools\n",
            "DOCS\t\t   lib64     nvvm\t       share\t  version.json\n",
            "\n",
            "/usr/local/cuda-11.2:\n",
            "bin\t\t   EULA.txt  libnvvp\t       nvvm-prev  src\n",
            "compat\t\t   extras    nsightee_plugins  README\t  targets\n",
            "compute-sanitizer  include   nvml\t       samples\t  tools\n",
            "DOCS\t\t   lib64     nvvm\t       share\t  version.json\n"
          ]
        }
      ]
    },
    {
      "cell_type": "code",
      "source": [
        "!cp -rf /usr/local/cuda-11/samples/1_Utilities/bandwidthTest ./bandwidthTest"
      ],
      "metadata": {
        "id": "wyipx5zGj2TI"
      },
      "execution_count": null,
      "outputs": []
    },
    {
      "cell_type": "code",
      "source": [
        "!ls bandwidthTest\n",
        "!nvcc -I/usr/local/cuda-11/samples/common/inc bandwidthTest/bandwidthTest.cu -o bandwidthTest/bandwidthTest"
      ],
      "metadata": {
        "colab": {
          "base_uri": "https://localhost:8080/"
        },
        "id": "96QmlRhwkAWC",
        "outputId": "e80439dc-c45a-461a-f038-36fe80713c38"
      },
      "execution_count": null,
      "outputs": [
        {
          "output_type": "stream",
          "name": "stdout",
          "text": [
            "bandwidthTest.cu  Makefile  NsightEclipse.xml  readme.txt\n"
          ]
        }
      ]
    },
    {
      "cell_type": "code",
      "source": [
        "!./bandwidthTest/bandwidthTest"
      ],
      "metadata": {
        "colab": {
          "base_uri": "https://localhost:8080/"
        },
        "id": "xX0Qr0r0kDrL",
        "outputId": "a2896423-ceee-471a-bd1f-43d67994fca3"
      },
      "execution_count": null,
      "outputs": [
        {
          "output_type": "stream",
          "name": "stdout",
          "text": [
            "[CUDA Bandwidth Test] - Starting...\n",
            "Running on...\n",
            "\n",
            " Device 0: Tesla T4\n",
            " Quick Mode\n",
            "\n",
            " Host to Device Bandwidth, 1 Device(s)\n",
            " PINNED Memory Transfers\n",
            "   Transfer Size (Bytes)\tBandwidth(GB/s)\n",
            "   32000000\t\t\t12.3\n",
            "\n",
            " Device to Host Bandwidth, 1 Device(s)\n",
            " PINNED Memory Transfers\n",
            "   Transfer Size (Bytes)\tBandwidth(GB/s)\n",
            "   32000000\t\t\t13.1\n",
            "\n",
            " Device to Device Bandwidth, 1 Device(s)\n",
            " PINNED Memory Transfers\n",
            "   Transfer Size (Bytes)\tBandwidth(GB/s)\n",
            "   32000000\t\t\t239.4\n",
            "\n",
            "Result = PASS\n",
            "\n",
            "NOTE: The CUDA Samples are not meant for performance measurements. Results may vary when GPU Boost is enabled.\n"
          ]
        }
      ]
    },
    {
      "cell_type": "code",
      "source": [
        "!./bandwidthTest/bandwidthTest --mode=shmoo --csv > benchmark.txt"
      ],
      "metadata": {
        "id": "QFa5JncRkPd3"
      },
      "execution_count": null,
      "outputs": []
    },
    {
      "cell_type": "code",
      "source": [
        "import pandas as pd\n",
        "import seaborn as sns\n",
        "import matplotlib.pyplot as plt\n",
        "import re\n",
        "\n",
        "plt.rcParams[\"figure.figsize\"] = [10, 5]\n",
        "plt.rcParams[\"figure.autolayout\"] = True"
      ],
      "metadata": {
        "id": "ji0UwiGdk5yL"
      },
      "execution_count": null,
      "outputs": []
    },
    {
      "cell_type": "code",
      "source": [
        "def is_decimal(s): \n",
        "  try: \n",
        "    float(s)\n",
        "    return True\n",
        "  except ValueError: \n",
        "    return False\n",
        "\n",
        "def extract_decimal(txt): \n",
        "  return [float(s) for s in txt.split() if is_decimal(s)][0]\n",
        "\n",
        "converters = {\n",
        "    0: lambda x: x[14:],\n",
        "    1: extract_decimal, \n",
        "    2: extract_decimal, \n",
        "    3: extract_decimal, \n",
        "    4: extract_decimal, \n",
        "}\n",
        "\n",
        "columns = {\n",
        "    0: \"type\", \n",
        "    1: \"bandwidth(gb/s)\", \n",
        "    2: \"time(s)\", \n",
        "    3: \"size(bytes)\", \n",
        "    4: \"numdevices\", \n",
        "}\n",
        "\n",
        "file = open(\"./benchmark.txt\", \"r\")\n",
        "df = pd.read_csv(file, header=None, converters=converters)\n",
        "df = df.rename(columns, axis=1).drop(\"numdevices\", axis=1)\n",
        "df.to_csv(\"./benchmark.csv\")\n",
        "\n",
        "h2d_df = df[df['type'] == \"H2D-Pinned\"]\n",
        "d2h_df = df[df['type'] == \"D2H-Pinned\"]\n",
        "d2d_df = df[df['type'] == \"D2D\"]\n",
        "\n",
        "h2d_df.head(), d2h_df.head(), d2d_df.head()"
      ],
      "metadata": {
        "colab": {
          "base_uri": "https://localhost:8080/"
        },
        "id": "4jOmlF-WlhN0",
        "outputId": "55a0bd51-15d2-47ee-8f2e-e20c6a934a09"
      },
      "execution_count": null,
      "outputs": [
        {
          "output_type": "execute_result",
          "data": {
            "text/plain": [
              "(         type  bandwidth(gb/s)  time(s)  size(bytes)\n",
              " 0  H2D-Pinned              0.4      0.0       1000.0\n",
              " 1  H2D-Pinned              0.8      0.0       2000.0\n",
              " 2  H2D-Pinned              1.2      0.0       3000.0\n",
              " 3  H2D-Pinned              1.5      0.0       4000.0\n",
              " 4  H2D-Pinned              1.8      0.0       5000.0,\n",
              "           type  bandwidth(gb/s)  time(s)  size(bytes)\n",
              " 81  D2H-Pinned              0.7      0.0       1000.0\n",
              " 82  D2H-Pinned              1.4      0.0       2000.0\n",
              " 83  D2H-Pinned              2.1      0.0       3000.0\n",
              " 84  D2H-Pinned              2.6      0.0       4000.0\n",
              " 85  D2H-Pinned              3.1      0.0       5000.0,\n",
              "     type  bandwidth(gb/s)  time(s)  size(bytes)\n",
              " 162  D2D              0.6      0.0       1000.0\n",
              " 163  D2D              1.1      0.0       2000.0\n",
              " 164  D2D              1.8      0.0       3000.0\n",
              " 165  D2D              2.4      0.0       4000.0\n",
              " 166  D2D              3.1      0.0       5000.0)"
            ]
          },
          "metadata": {},
          "execution_count": 102
        }
      ]
    },
    {
      "cell_type": "code",
      "source": [
        "grid = sns.scatterplot(x=\"size(bytes)\", y=\"bandwidth(gb/s)\", hue=\"type\", data=df)\n",
        "grid.set(xscale=\"log\", yscale=\"log\", title=\"GPU Bandwidth\")\n",
        "grid"
      ],
      "metadata": {
        "colab": {
          "base_uri": "https://localhost:8080/",
          "height": 386
        },
        "id": "1Xyn5hBLxY7r",
        "outputId": "a636a6cc-08a2-4a15-d51e-1b5425dc628c"
      },
      "execution_count": null,
      "outputs": [
        {
          "output_type": "execute_result",
          "data": {
            "text/plain": [
              "<matplotlib.axes._subplots.AxesSubplot at 0x7f489587ea10>"
            ]
          },
          "metadata": {},
          "execution_count": 101
        },
        {
          "output_type": "display_data",
          "data": {
            "text/plain": [
              "<Figure size 720x360 with 1 Axes>"
            ],
            "image/png": "[encoded data removed]"
          },
          "metadata": {
            "needs_background": "light"
          }
        }
      ]
    },
    {
      "cell_type": "code",
      "source": [
        "grid = sns.scatterplot(x=\"size(bytes)\", y=\"bandwidth(gb/s)\", data=h2d_df)\n",
        "grid.set(xscale=\"log\", yscale=\"log\", title=\"Host to Device\")\n",
        "grid"
      ],
      "metadata": {
        "colab": {
          "base_uri": "https://localhost:8080/",
          "height": 386
        },
        "id": "MlS8-tVklnbo",
        "outputId": "95c10700-0513-4e0b-8153-9fc411426123"
      },
      "execution_count": null,
      "outputs": [
        {
          "output_type": "execute_result",
          "data": {
            "text/plain": [
              "<matplotlib.axes._subplots.AxesSubplot at 0x7f48965bc190>"
            ]
          },
          "metadata": {},
          "execution_count": 96
        },
        {
          "output_type": "display_data",
          "data": {
            "text/plain": [
              "<Figure size 720x360 with 1 Axes>"
            ],
            "image/png": "[encoded data removed]"
          },
          "metadata": {
            "needs_background": "light"
          }
        }
      ]
    },
    {
      "cell_type": "code",
      "source": [
        "grid = sns.scatterplot(x=\"size(bytes)\", y=\"bandwidth(gb/s)\", data=d2h_df)\n",
        "grid.set(xscale=\"log\", yscale=\"log\", title=\"Device to Host\")\n",
        "grid"
      ],
      "metadata": {
        "colab": {
          "base_uri": "https://localhost:8080/",
          "height": 386
        },
        "id": "dhkcmmKRnQJp",
        "outputId": "547e4148-d41a-4693-f5e8-682d903875f6"
      },
      "execution_count": null,
      "outputs": [
        {
          "output_type": "execute_result",
          "data": {
            "text/plain": [
              "<matplotlib.axes._subplots.AxesSubplot at 0x7f4895d32090>"
            ]
          },
          "metadata": {},
          "execution_count": 97
        },
        {
          "output_type": "display_data",
          "data": {
            "text/plain": [
              "<Figure size 720x360 with 1 Axes>"
            ],
            "image/png": "[encoded data removed]"
          },
          "metadata": {
            "needs_background": "light"
          }
        }
      ]
    },
    {
      "cell_type": "code",
      "source": [
        "grid = sns.scatterplot(x=\"size(bytes)\", y=\"bandwidth(gb/s)\", data=d2d_df)\n",
        "grid.set(xscale=\"log\", yscale=\"log\", title=\"Device to Device\")\n",
        "grid"
      ],
      "metadata": {
        "colab": {
          "base_uri": "https://localhost:8080/",
          "height": 386
        },
        "id": "6D2Brm_RsubE",
        "outputId": "2efa345a-f23e-44f2-f9f5-9b7f31ab782d"
      },
      "execution_count": null,
      "outputs": [
        {
          "output_type": "execute_result",
          "data": {
            "text/plain": [
              "<matplotlib.axes._subplots.AxesSubplot at 0x7f4895acc9d0>"
            ]
          },
          "metadata": {},
          "execution_count": 98
        },
        {
          "output_type": "display_data",
          "data": {
            "text/plain": [
              "<Figure size 720x360 with 1 Axes>"
            ],
            "image/png": "[encoded data removed]"
          },
          "metadata": {
            "needs_background": "light"
          }
        }
      ]
    },
    {
      "cell_type": "code",
      "source": [],
      "metadata": {
        "id": "bzVfoNX7sx8X"
      },
      "execution_count": null,
      "outputs": []
    }
  ]
}